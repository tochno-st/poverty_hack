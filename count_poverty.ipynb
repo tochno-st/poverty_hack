{
 "cells": [
  {
   "cell_type": "markdown",
   "source": [
    "## Восстановление параметров распределения денежных доходов населения по отчетным данным Росстата"
   ],
   "metadata": {
    "collapsed": false,
    "pycharm": {
     "name": "#%% md\n"
    }
   }
  },
  {
   "cell_type": "markdown",
   "source": [
    "Росстат при расчете уровня бедности моделирует распределение денежных доходов населения с помощью логнормального распределения ([1](https://rosstat.gov.ru/storage/mediabank/2v230419.pdf), [2](https://rosstat.gov.ru/storage/mediabank/metodika_bednost.docx)). В некоторых исследовательских задачах может пригодиться знание этих параметров. Например, для ответа на вопрос, какой уровень бедности был бы в 2022 году, если бы граница бедности была на 1000 рублей больше.\n",
    "\n",
    "Несмотря на то, что Росстат не раскрывает параметры логнормального распределения, их [можно восстановить](https://voprstat.elpub.ru/jour/article/view/189) из публикуемых Росстатом данных. Ниже приведен код, который восстанавливает параметры распределения по опубликованным оценкам уровня бедности.\n",
    "\n",
    "На вход нужно подать:\n",
    "\n",
    "- значение среднедушевых денежных доходов (**average_income**) в рублях за соответствующий период (квартал, год);\n",
    "- значение границы бедности (**poverty_line**) в рублях за соответствующий период (квартал, год);\n",
    "- уровень бедности (**poverty**) в процентах (например, 9.8) за соответствующий период (квартал, год).\n",
    "\n",
    " Вместо уровня бедности можно использовать любые другие квинтили из распределения денежных доходов. Например, можно взять первый дециль распределения доходов (0.1). Тогда вместо значения границы бедности нужно указать верхнюю границу среднедушевых денежных доходов для этого дециля."
   ],
   "metadata": {
    "collapsed": false,
    "pycharm": {
     "name": "#%% md\n"
    }
   }
  },
  {
   "cell_type": "code",
   "execution_count": 75,
   "outputs": [],
   "source": [
    "from scipy.optimize import fsolve\n",
    "from scipy.stats import norm\n",
    "from scipy.integrate import quad\n",
    "import math\n",
    "import numpy as np"
   ],
   "metadata": {
    "collapsed": false,
    "pycharm": {
     "name": "#%%\n"
    }
   }
  },
  {
   "cell_type": "code",
   "execution_count": 76,
   "outputs": [],
   "source": [
    "class HackParams:\n",
    "    def __init__(self, average_income, poverty_line, poverty):\n",
    "        \"\"\"Initialize class with parameters from Rosstat.\"\"\"\n",
    "        self.average_income = average_income\n",
    "        self.poverty_line = poverty_line\n",
    "        self.poverty = poverty/100\n",
    "\n",
    "    def find_upper_limit(self):\n",
    "        upper_limit, = fsolve(self.equation, 0, self.poverty)\n",
    "        return upper_limit\n",
    "\n",
    "    def find_params(self):\n",
    "        \"\"\"Find mean and standard deviation of lognormal distribution used by Rosstat.\"\"\"\n",
    "        u_limit = self.find_upper_limit()\n",
    "        stdev = u_limit + math.sqrt(u_limit**2+2*math.log(self.average_income/self.poverty_line))\n",
    "        mu = math.log(self.average_income) - 0.5*stdev**2\n",
    "        return mu, stdev\n",
    "\n",
    "    def count_poverty(self, new_line):\n",
    "        \"\"\"Count poverty based on some value of poverty line.\"\"\"\n",
    "        mu, sigma = self.find_params()\n",
    "        ln_x0 = math.log(self.average_income) - 0.5 * sigma ** 2\n",
    "        u = (math.log(new_line) - ln_x0) / sigma\n",
    "        integral, error = quad(self.integrand, -np.inf, u)\n",
    "        result = round((1 / math.sqrt(2 * math.pi)) * integral, 4)\n",
    "        return result*100\n",
    "\n",
    "    @staticmethod\n",
    "    def equation(x, value):\n",
    "        return norm.cdf(x) - value\n",
    "\n",
    "    @staticmethod\n",
    "    def integrand(x):\n",
    "        return np.exp((-x ** 2) / 2)"
   ],
   "metadata": {
    "collapsed": false,
    "pycharm": {
     "name": "#%%\n"
    }
   }
  },
  {
   "cell_type": "markdown",
   "source": [
    "### Пример\n",
    "Оценим, какой уровень бедности был бы в 2022 году, если бы граница бедности составляла 14 500 рублей, а не 13 545 рублей (**poverty_line**). Для границы бедности 13 545 рублей уровень бедности (**poverty**), по данным Росстата, составил 9,8% в целом за 2022 год. Среднедушевые денежные доходы населения (**average_income**) за 2022 год составили 44 937 рублей."
   ],
   "metadata": {
    "collapsed": false,
    "pycharm": {
     "name": "#%% md\n"
    }
   }
  },
  {
   "cell_type": "code",
   "execution_count": 77,
   "outputs": [],
   "source": [
    "new_poverty = HackParams(average_income=44937, poverty_line=13545, poverty=9.8)"
   ],
   "metadata": {
    "collapsed": false,
    "pycharm": {
     "name": "#%%\n"
    }
   }
  },
  {
   "cell_type": "code",
   "execution_count": 78,
   "outputs": [
    {
     "data": {
      "text/plain": "(10.450569448889533, 0.7244961545064188)"
     },
     "execution_count": 78,
     "metadata": {},
     "output_type": "execute_result"
    }
   ],
   "source": [
    "new_poverty.find_params()"
   ],
   "metadata": {
    "collapsed": false,
    "pycharm": {
     "name": "#%%\n"
    }
   }
  },
  {
   "cell_type": "markdown",
   "source": [
    "Это параметры (среднее и нормальное отклонение) логнормального распределения, используемого Росстатом для аппроксимации распределения среднедушевых денежных доходов населения в 2022 году. Посчитаем, какой бы уровень бедности был, если бы границу бедности установили на уровне 14 500 рублей."
   ],
   "metadata": {
    "collapsed": false,
    "pycharm": {
     "name": "#%% md\n"
    }
   }
  },
  {
   "cell_type": "code",
   "execution_count": 79,
   "outputs": [
    {
     "data": {
      "text/plain": "11.61"
     },
     "execution_count": 79,
     "metadata": {},
     "output_type": "execute_result"
    }
   ],
   "source": [
    "new_poverty.count_poverty(14545)"
   ],
   "metadata": {
    "collapsed": false,
    "pycharm": {
     "name": "#%%\n"
    }
   }
  },
  {
   "cell_type": "markdown",
   "source": [
    "Т.е. увеличение границы бедности на 1000 рублей, увеличило бы оценку уровня бедности на 1.8 процентных пункта, или примерно 2.6 млн человек."
   ],
   "metadata": {
    "collapsed": false,
    "pycharm": {
     "name": "#%% md\n"
    }
   }
  },
  {
   "cell_type": "code",
   "execution_count": null,
   "outputs": [],
   "source": [],
   "metadata": {
    "collapsed": false,
    "pycharm": {
     "name": "#%%\n"
    }
   }
  }
 ],
 "metadata": {
  "kernelspec": {
   "display_name": "Python 3",
   "language": "python",
   "name": "python3"
  },
  "language_info": {
   "codemirror_mode": {
    "name": "ipython",
    "version": 2
   },
   "file_extension": ".py",
   "mimetype": "text/x-python",
   "name": "python",
   "nbconvert_exporter": "python",
   "pygments_lexer": "ipython2",
   "version": "2.7.6"
  }
 },
 "nbformat": 4,
 "nbformat_minor": 0
}